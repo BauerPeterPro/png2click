{
 "cells": [
  {
   "cell_type": "code",
   "execution_count": null,
   "metadata": {},
   "outputs": [],
   "source": [
    "from pynput import mouse\n",
    "import time\n",
    "\n",
    "positions = []\n",
    "\n",
    "def on_click(x, y, button, pressed):\n",
    "    positions.append((x, y))\n",
    "    return False\n",
    "\n",
    "listener = mouse.Listener(on_click=on_click)\n",
    "\n",
    "print(\"Clique sur le point supérieur gauche\")\n",
    "listener.start()\n",
    "listener.join()\n",
    "positionStart = positions[-1]\n",
    "listener.stop()\n",
    "\n",
    "time.sleep(2)\n",
    "\n",
    "print(\"Clique sur le point inférieur droit\")\n",
    "listener = mouse.Listener(on_click=on_click)\n",
    "listener.start()\n",
    "listener.join()\n",
    "positionStop = positions[-1]\n",
    "listener.stop()\n",
    "\n",
    "print(\"Position de départ :\", positionStart)\n",
    "print(\"Position de fin :\", positionStop)"
   ]
  },
  {
   "cell_type": "code",
   "execution_count": null,
   "metadata": {},
   "outputs": [],
   "source": [
    "new_width = positionStop[0] - positionStart[0]\n",
    "\n",
    "from PIL import Image\n",
    "\n",
    "image = Image.open(\"./cafe.png\")\n",
    "\n",
    "width, height = image.size\n",
    "new_height = int(new_width * height / width)\n",
    "resized_image = image.resize((new_width, new_height))\n",
    "\n",
    "resized_image"
   ]
  },
  {
   "cell_type": "code",
   "execution_count": null,
   "metadata": {},
   "outputs": [],
   "source": [
    "import pyautogui\n",
    "pyautogui.PAUSE=0.01\n",
    "\n",
    "# Convertir l'image en mode noir et blanc (L: luminance)\n",
    "image = resized_image.convert(\"L\")\n",
    "\n",
    "width, height = image.size\n",
    "\n",
    "# Parcourir chaque pixel de l'image\n",
    "i = 0\n",
    "for y in range(height):\n",
    "    for x in range(width):\n",
    "        # Obtenir la valeur du pixel\n",
    "        pixel = image.getpixel((x, y))\n",
    "\n",
    "        if pixel < 128:\n",
    "            i += 1\n",
    "\n",
    "print(\"Il y à \", i, \"pixels\")"
   ]
  },
  {
   "cell_type": "code",
   "execution_count": 4,
   "metadata": {},
   "outputs": [],
   "source": [
    "import pyautogui\n",
    "pyautogui.PAUSE=0.01\n",
    "\n",
    "# Convertir l'image en mode noir et blanc (L: luminance)\n",
    "image = resized_image.convert(\"L\")\n",
    "\n",
    "width, height = image.size\n",
    "\n",
    "# Parcourir chaque pixel de l'image\n",
    "for y in range(height):\n",
    "    for x in range(width):\n",
    "        # Obtenir la valeur du pixel\n",
    "        pixel = image.getpixel((x, y))\n",
    "\n",
    "        if pixel < 128:\n",
    "            pyautogui.moveTo(positionStart[0] + x, positionStart[1] + y)\n",
    "            pyautogui.click()"
   ]
  },
  {
   "cell_type": "code",
   "execution_count": null,
   "metadata": {},
   "outputs": [],
   "source": []
  },
  {
   "cell_type": "code",
   "execution_count": null,
   "metadata": {},
   "outputs": [],
   "source": []
  }
 ],
 "metadata": {
  "kernelspec": {
   "display_name": "Python 3",
   "language": "python",
   "name": "python3"
  },
  "language_info": {
   "codemirror_mode": {
    "name": "ipython",
    "version": 3
   },
   "file_extension": ".py",
   "mimetype": "text/x-python",
   "name": "python",
   "nbconvert_exporter": "python",
   "pygments_lexer": "ipython3",
   "version": "3.11.3"
  },
  "orig_nbformat": 4
 },
 "nbformat": 4,
 "nbformat_minor": 2
}
